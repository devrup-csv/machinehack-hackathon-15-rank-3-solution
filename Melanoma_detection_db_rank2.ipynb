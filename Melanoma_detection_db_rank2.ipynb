{
  "nbformat": 4,
  "nbformat_minor": 0,
  "metadata": {
    "colab": {
      "name": "Melanoma_detection_db_rank2.ipynb",
      "provenance": []
    },
    "kernelspec": {
      "name": "python3",
      "display_name": "Python 3"
    },
    "accelerator": "GPU"
  },
  "cells": [
    {
      "cell_type": "code",
      "metadata": {
        "id": "4CL2i3yPf0wF",
        "colab_type": "code",
        "colab": {}
      },
      "source": [
        "#PLEASE CHANGE RUNTIME TO GPU IN COLLAB\n",
        "#THE BELOW WORK IS A RESULT OF COLLABORATION AND IDEA EXCHANGE BETWEEN SAI, SAYANTAN AND MYSELF. THEY DESERVE THIS RANK AS MUCH AS I.\n",
        "##YOU NEED TO CHANGE ADDRESS TO SAVE IN 4 PLACES INSIDE THIS CODE, PLEASE FOLLOW COMMENTS\n",
        "!pip install catboost\n",
        "!pip install --upgrade pandas\n",
        "!pip install --upgrade numpy\n",
        "!pip install -U scikit-learn==0.21\n",
        "!pip install scikit-optimize"
      ],
      "execution_count": null,
      "outputs": []
    },
    {
      "cell_type": "code",
      "metadata": {
        "id": "FXe8Lj4vkLwZ",
        "colab_type": "code",
        "colab": {
          "base_uri": "https://localhost:8080/",
          "height": 122
        },
        "outputId": "a6709ec9-7adf-4003-9117-0fb16dc0da72"
      },
      "source": [
        "import numpy as np\n",
        "import pandas as pd\n",
        "from IPython.display import clear_output\n",
        "import matplotlib.pyplot as plt\n",
        "%matplotlib inline\n",
        "# from reg_resampler import resampler\n",
        "from sklearn.feature_selection import SelectFromModel\n",
        "from sklearn.model_selection import KFold, cross_val_score\n",
        "from sklearn.model_selection import cross_validate,cross_val_score\n",
        "import seaborn as sns\n",
        "from sklearn.metrics import mean_squared_error ,accuracy_score\n",
        "from google.colab import files\n",
        "from sklearn.model_selection import KFold, train_test_split\n",
        "import csv\n",
        "import numpy as np\n",
        "import os\n",
        "import featuretools as ft\n",
        "import featuretools.variable_types as vtypes\n",
        "from catboost import CatBoostRegressor\n",
        "import warnings\n",
        "from math import sqrt\n",
        "from sklearn.ensemble import ExtraTreesRegressor\n",
        "from google.colab import drive\n",
        "import sklearn as sk\n",
        "from scipy import stats\n",
        "import re\n",
        "from collections import Counter\n",
        "import matplotlib.pyplot as plt\n",
        "import warnings\n",
        "warnings.filterwarnings('ignore')\n",
        "drive.mount(\"/GD\")"
      ],
      "execution_count": 1,
      "outputs": [
        {
          "output_type": "stream",
          "text": [
            "/usr/local/lib/python3.6/dist-packages/statsmodels/tools/_testing.py:19: FutureWarning: pandas.util.testing is deprecated. Use the functions in the public API at pandas.testing instead.\n",
            "  import pandas.util.testing as tm\n"
          ],
          "name": "stderr"
        },
        {
          "output_type": "stream",
          "text": [
            "Drive already mounted at /GD; to attempt to forcibly remount, call drive.mount(\"/GD\", force_remount=True).\n"
          ],
          "name": "stdout"
        },
        {
          "output_type": "stream",
          "text": [
            "/usr/local/lib/python3.6/dist-packages/sklearn/externals/joblib/__init__.py:15: DeprecationWarning: sklearn.externals.joblib is deprecated in 0.21 and will be removed in 0.23. Please import this functionality directly from joblib, which can be installed with: pip install joblib. If this warning is raised when loading pickled models, you may need to re-serialize those models with scikit-learn 0.21+.\n",
            "  warnings.warn(msg, category=DeprecationWarning)\n"
          ],
          "name": "stderr"
        }
      ]
    },
    {
      "cell_type": "code",
      "metadata": {
        "id": "YGms43hVmZ-W",
        "colab_type": "code",
        "colab": {}
      },
      "source": [
        "def reduce_mem_usage(df, verbose=True):\n",
        "    numerics = ['int16', 'int32', 'int64', 'float16', 'float32', 'float64']\n",
        "    #objecttype=['object']\n",
        "    start_mem = df.memory_usage().sum() / 1024**2    \n",
        "    for col in df.columns:\n",
        "        col_type = df[col].dtypes\n",
        "        if col_type in numerics:\n",
        "            c_min = df[col].min()\n",
        "            c_max = df[col].max()\n",
        "            if str(col_type)[:3] == 'int':\n",
        "                if c_min > np.iinfo(np.int8).min and c_max < np.iinfo(np.int8).max:\n",
        "                    df[col] = df[col].astype(np.int8)\n",
        "                elif c_min > np.iinfo(np.int16).min and c_max < np.iinfo(np.int16).max:\n",
        "                    df[col] = df[col].astype(np.int16)\n",
        "                elif c_min > np.iinfo(np.int32).min and c_max < np.iinfo(np.int32).max:\n",
        "                    df[col] = df[col].astype(np.int32)\n",
        "                elif c_min > np.iinfo(np.int64).min and c_max < np.iinfo(np.int64).max:\n",
        "                    df[col] = df[col].astype(np.int64)  \n",
        "            else:\n",
        "                if c_min > np.finfo(np.float16).min and c_max < np.finfo(np.float16).max:\n",
        "                    df[col] = df[col].astype(np.float16)\n",
        "                elif c_min > np.finfo(np.float32).min and c_max < np.finfo(np.float32).max:\n",
        "                    df[col] = df[col].astype(np.float32)\n",
        "                else:\n",
        "                    df[col] = df[col].astype(np.float64)\n",
        "        #if col_type in objecttype:\n",
        "            #df[col]=df[col].astype('category')\n",
        "    end_mem = df.memory_usage().sum() / 1024**2\n",
        "    if verbose: print('Mem. usage decreased to {:5.2f} Mb ({:.1f}% reduction)'.format(end_mem, 100 * (start_mem - end_mem) / start_mem))\n",
        "    return df"
      ],
      "execution_count": 2,
      "outputs": []
    },
    {
      "cell_type": "code",
      "metadata": {
        "id": "nyrowfmbmlX5",
        "colab_type": "code",
        "colab": {}
      },
      "source": [
        "#PREPROCESSING MODULE\n",
        "#######change address here for verification#############\n",
        "df_train = pd.read_csv(\"/GD/My Drive/cancer/Train.csv\")\n",
        "df_test = pd.read_csv(\"/GD/My Drive/cancer/Test.csv\")\n",
        "########################################################\n",
        "key=df_train.drop(['tumor_size'],axis=1).columns.tolist()\n",
        "df_test['key']=df_test[key].apply(lambda x: '_'.join(x.astype('str')), axis = 1)\n",
        "df_train['key']=df_train[key].apply(lambda x: '_'.join(x.astype('str')), axis = 1)\n",
        "df=pd.DataFrame(df_train.groupby(['key'],as_index=False)['tumor_size'].mean())\n",
        "df=df.reset_index()\n",
        "encode = dict(zip(df.key, df.tumor_size))\n",
        "df_test['tumor_size']=df_test.key.map(encode)\n",
        "df_test2=df_test[np.isnan(df_test.tumor_size)].drop(['tumor_size'],axis=1)\n",
        "df_train2=df_train.drop(['tumor_size'],axis=1).drop_duplicates()\n",
        "encode3 = dict(zip(df_train.key, df_train.tumor_size))\n",
        "df_train2['tumor_size']=df_train2.key.map(encode3)\n",
        "df_train2=df_train2[df_train2.tumor_size>0]\n",
        "df_test2['is_what']='test'\n",
        "df_train2['is_what']='train'\n",
        "Y=df_train2['tumor_size']\n",
        "fulldf=df_train2.drop(['tumor_size'],axis=1).append(df_test2)\n",
        "reduce_mem_usage(fulldf)\n"
      ],
      "execution_count": null,
      "outputs": []
    },
    {
      "cell_type": "code",
      "metadata": {
        "id": "wwEB-YWwne0c",
        "colab_type": "code",
        "colab": {}
      },
      "source": [
        "#################################FEATURE ENGINEERING#######################################################################\n",
        "df2=fulldf\n",
        "es = ft.EntitySet(id = 'power')\n",
        "categories=['key','is_what']\n",
        "variable_types=dict.fromkeys(categories, vtypes.Categorical)\n",
        "\n",
        "es.entity_from_dataframe(entity_id = 'data', dataframe = df2, \n",
        "                         make_index = True, index = 'index',variable_types=variable_types)\n",
        "feature_matrix, feature_list = ft.dfs(entityset = es, target_entity = 'data',\n",
        "                                      trans_primitives = ['percentile','divide','multiply'],max_depth=2\n",
        "                                      )\n",
        "main2=feature_matrix\n",
        "main2.replace([np.inf, -np.inf], np.nan,inplace=True)\n",
        "TEST=main2[main2['is_what']=='test'].drop(['is_what'],axis=1)\n",
        "TRAIN=main2[main2['is_what']=='train'].drop(['is_what'],axis=1)\n",
        "#NOW COMBINING SAYANTAN AND SAI'S FEATURES\n",
        "#sayantan's features\n",
        "TRAIN['total_estimated_samples'] =   TRAIN['err_malign'] / TRAIN['std_dev_malign']  \n",
        "TEST['total_estimated_samples'] =   TEST['err_malign'] / TEST['std_dev_malign'] \n",
        "TRAIN['tumor_area'] = TRAIN['exposed_area'] - TRAIN['damage_size']\n",
        "TEST['tumor_area'] = TEST['exposed_area'] - TEST['damage_size']\n",
        "TRAIN['tumor_mass'] = TRAIN['tumor_area'] * TRAIN['mass_npea'] / TRAIN['size_npear']\n",
        "TEST['tumor_mass'] = TEST['tumor_area'] * TEST['mass_npea'] / TEST['size_npear']\n",
        "TRAIN['feat_1'] = TRAIN['malign_penalty'] * TRAIN['mass_npea']\n",
        "TEST['feat_1'] = TEST['malign_penalty'] * TEST['mass_npea']\n",
        "\n",
        "#sai's features\n",
        "TRAIN[\"exposed_area_by_size_npear\"] = (TRAIN[\"exposed_area\"]/TRAIN[\"size_npear\"])*TRAIN[\"malign_ratio\"]\n",
        "TEST[\"exposed_area_by_size_npear\"] = (TEST[\"exposed_area\"]/TEST[\"size_npear\"])*TEST[\"malign_ratio\"]\n"
      ],
      "execution_count": 18,
      "outputs": []
    },
    {
      "cell_type": "code",
      "metadata": {
        "id": "rBtflSU6q6f_",
        "colab_type": "code",
        "colab": {
          "base_uri": "https://localhost:8080/",
          "height": 85
        },
        "outputId": "6381f4c4-d23e-4636-d32b-37e723258a07"
      },
      "source": [
        "###CHANGE THE ADDRESS BELOW BEFORE RUNNING THIS CODE. REPLACE ADDRESS 1 WITH UR LOCATION########\n",
        "#feature selection, the biggest headache and the most time wasted doing this\n",
        "CBOTHER=['total_estimated_samples', 'err_malign', 'damage_size', 'damage_ratio',\n",
        "       'tumor_mass', 'exposed_area_by_size_npear', 'malign_penalty', 'feat_1',\n",
        "       'std_dev_malign', 'tumor_area']\n",
        "MAINCB=['size_npear / damage_size', 'PERCENTILE(damage_size) / damage_size',\n",
        "       'exposed_area_by_size_npear',\n",
        "       'PERCENTILE(mass_npea) / PERCENTILE(exposed_area)',\n",
        "       'malign_penalty / damage_size', 'PERCENTILE(exposed_area) / size_npear',\n",
        "       'damage_ratio * err_malign',\n",
        "       'malign_penalty / err_malign * malign_ratio / damage_size',\n",
        "       'damage_size / size_npear',\n",
        "       'malign_penalty / damage_size * malign_ratio / damage_size',\n",
        "       'malign_ratio / exposed_area * PERCENTILE(err_malign)',\n",
        "       'malign_penalty / PERCENTILE(malign_penalty)',\n",
        "       'damage_ratio / exposed_area * damage_size / malign_ratio',\n",
        "       'PERCENTILE(malign_penalty) / damage_size',\n",
        "       'malign_penalty / mass_npea * PERCENTILE(damage_ratio)',\n",
        "       'err_malign / mass_npea * PERCENTILE(std_dev_malign)',\n",
        "       'err_malign / damage_size * PERCENTILE(damage_ratio)',\n",
        "       'damage_ratio * PERCENTILE(std_dev_malign)',\n",
        "       'PERCENTILE(mass_npea) / PERCENTILE(malign_penalty)',\n",
        "       'malign_ratio / err_malign * PERCENTILE(malign_penalty)',\n",
        "       'PERCENTILE(std_dev_malign) / mass_npea',\n",
        "       'malign_penalty / std_dev_malign * malign_ratio / exposed_area',\n",
        "       'damage_size / mass_npea * std_dev_malign / mass_npea',\n",
        "       'PERCENTILE(damage_ratio) * PERCENTILE(err_malign)',\n",
        "       'PERCENTILE(err_malign) / PERCENTILE(exposed_area)',\n",
        "       'damage_ratio * PERCENTILE(err_malign)',\n",
        "       'damage_ratio / damage_size * malign_penalty / damage_size',\n",
        "       'PERCENTILE(err_malign) / std_dev_malign',\n",
        "       'damage_ratio / std_dev_malign * damage_size',\n",
        "       'PERCENTILE(malign_penalty) / malign_ratio',\n",
        "       'PERCENTILE(std_dev_malign) / err_malign',\n",
        "       'damage_ratio * PERCENTILE(damage_size)',\n",
        "       'err_malign / std_dev_malign * malign_ratio / mass_npea',\n",
        "       'PERCENTILE(malign_penalty) / err_malign',\n",
        "       'malign_penalty / size_npear * PERCENTILE(damage_ratio)',\n",
        "       'err_malign / size_npear * malign_ratio / damage_ratio',\n",
        "       'err_malign / damage_size * malign_penalty / damage_size']\n",
        "imp_columns=CBOTHER+MAINCB\n",
        "IMP_COLUMNS2=list(set(imp_columns))\n",
        "TRAIN_FINAL=TRAIN[IMP_COLUMNS2]\n",
        "TEST_FINAL=TEST[IMP_COLUMNS2]\n",
        "reduce_mem_usage(TRAIN_FINAL)\n",
        "reduce_mem_usage(TEST_FINAL)\n",
        "#BELOW PART FREES UP RAM AND MAKES IT SUSTAINABLE TO RUN THE UPCOMING MODELS\n",
        "#####change address here#############\n",
        "#DONT CHANGE THE SAVING FILE NAME JUST CHANGE THE LOCATION AS PER YOUR OWN DRIVE\n",
        "TRAIN_FINAL.to_csv(\"/GD/My Drive/cancer/TRAIN_FINAL.csv\",index=False)\n",
        "TEST_FINAL.to_csv(\"/GD/My Drive/cancer/TEST_FINAL.csv\",index=False)\n",
        "Y.to_csv(\"/GD/My Drive/cancer/Y.csv\",index=False)\n",
        "########################################\n",
        "\n",
        "#CB COMPLETELY TUNED AND PROVIDED BY SAI.\n",
        "cb1=CatBoostRegressor(random_state=25,n_estimators=4000,task_type=\"GPU\",devices=\"0:1\",boosting_type=\"Plain\",#.6\n",
        "                              verbose=0,max_depth=13,learning_rate=0.09)\n",
        "cb2=CatBoostRegressor(random_state=18,n_estimators=3000,task_type=\"GPU\",devices=\"0:1\",boosting_type=\"Plain\",#.4\n",
        "                              verbose=0,max_depth=11,learning_rate=0.095)\n",
        "\n",
        "\n",
        "###CHANGE ADDRESS HERE GIVE SAME LOCATION AS ABOVE IN PLACE OF ADDRESS 1###########\n",
        "###THIS PART NEEDED TO FREE UP RUNTIME MEMORY#################\n",
        "TRAIN_FINAL=pd.read_csv(\"/GD/My Drive/cancer/TRAIN_FINAL.csv\")\n",
        "TEST_FINAL=pd.read_csv(\"/GD/My Drive/cancer/TEST_FINAL.csv\")\n",
        "Y=pd.read_csv(\"/GD/My Drive/cancer/Y.csv\")\n",
        "Y=Y['tumor_size']\n",
        "##################################\n",
        "reduce_mem_usage(TRAIN_FINAL)\n",
        "reduce_mem_usage(TEST_FINAL)\n",
        "TRAIN=[]\n",
        "TEST=[]"
      ],
      "execution_count": 19,
      "outputs": [
        {
          "output_type": "stream",
          "text": [
            "Mem. usage decreased to  0.94 Mb (66.5% reduction)\n",
            "Mem. usage decreased to  3.77 Mb (66.5% reduction)\n",
            "Mem. usage decreased to  0.88 Mb (72.3% reduction)\n",
            "Mem. usage decreased to  3.50 Mb (72.3% reduction)\n"
          ],
          "name": "stdout"
        }
      ]
    },
    {
      "cell_type": "code",
      "metadata": {
        "id": "LOLYCqWVtbZV",
        "colab_type": "code",
        "colab": {
          "base_uri": "https://localhost:8080/",
          "height": 289
        },
        "outputId": "c57c331e-240e-4553-88a8-753f76712f17"
      },
      "source": [
        "#Runtime 55mins\n",
        "#FOR CB1 warning: takes huge time! if you are happy with a little lesser scores, reduce the estimators!\n",
        "#suggest to open another google collab window and run two folds simultaneously. You can combine them by ratios even manually later from excel\n",
        "i=0\n",
        "l=[]\n",
        "setused=TRAIN_FINAL[MAINCB]\n",
        "targ=Y\n",
        "test=TEST_FINAL\n",
        "scores=[]\n",
        "splits=15\n",
        "cnf_matrix=[]\n",
        "oof_preds = np.zeros((len(test)))\n",
        "kfold, scores = KFold(n_splits=splits,random_state=True), list()\n",
        "for train2, test2 in kfold.split(setused,targ):\n",
        "    x_train, x_test = setused.values[train2], setused.values[test2]\n",
        "    y_train, y_test = targ.values[train2], targ.values[test2]\n",
        "    model = cb1\n",
        "    model.fit(x_train, y_train)\n",
        "    preds = model.predict(x_test)\n",
        "    #############################\n",
        "    feature_importances = pd.DataFrame(model.feature_importances_,\n",
        "                                       index = setused.columns,\n",
        "                                        columns=['importance'])\n",
        "    sum=feature_importances.values\n",
        "    l.append(sum)\n",
        "    #############################\n",
        "    score = np.sqrt(mean_squared_error(y_test, preds))\n",
        "    scores.append(score)\n",
        "    print(score)\n",
        "    oof_preds += model.predict(test[setused.columns.tolist()].values)\n",
        "oof_preds = oof_preds/splits\n",
        "\n",
        "print(\"Average: \", np.sum(scores)/len(scores))\n",
        "#3.395748867305454"
      ],
      "execution_count": 7,
      "outputs": [
        {
          "output_type": "stream",
          "text": [
            "3.395748867305454\n",
            "3.635446459349284\n",
            "3.4622486979800278\n",
            "3.4417551028858937\n",
            "3.5530359422377304\n",
            "3.5215868209170895\n",
            "3.5882127096584573\n",
            "3.7874274457968276\n",
            "3.8404595386530884\n",
            "3.8220729898474155\n",
            "3.5969254205796566\n",
            "3.5674265119946464\n",
            "3.7747989575715395\n",
            "3.303760235792461\n",
            "3.719877148303528\n",
            "Average:  3.6007188565915396\n"
          ],
          "name": "stdout"
        }
      ]
    },
    {
      "cell_type": "code",
      "metadata": {
        "id": "w2USbTclJff6",
        "colab_type": "code",
        "colab": {
          "base_uri": "https://localhost:8080/",
          "height": 306
        },
        "outputId": "d7fbd994-c72e-44c5-cb82-07006012cf55"
      },
      "source": [
        "#for CB2. RUNTIME AT 15MINS\n",
        "#suggest to open another google collab window and run two folds simultaneously. You can combine them by ratios even manually later from excel\n",
        "i=0\n",
        "l=[]\n",
        "setused=TRAIN_FINAL[CBOTHER]\n",
        "targ=Y\n",
        "test=TEST_FINAL\n",
        "scores=[]\n",
        "splits=16\n",
        "cnf_matrix=[]\n",
        "oof_preds2 = np.zeros((len(test)))\n",
        "kfold, scores = KFold(n_splits=splits,random_state=True), list()\n",
        "for train2, test2 in kfold.split(setused,targ):\n",
        "    x_train, x_test = setused.values[train2], setused.values[test2]\n",
        "    y_train, y_test = targ.values[train2], targ.values[test2]\n",
        "    model = cb2\n",
        "    model.fit(x_train, y_train)\n",
        "    preds = model.predict(x_test)\n",
        "    #############################\n",
        "    feature_importances = pd.DataFrame(model.feature_importances_,\n",
        "                                       index = setused.columns,\n",
        "                                        columns=['importance'])\n",
        "    sum=feature_importances.values\n",
        "    l.append(sum)\n",
        "    #############################\n",
        "    score = np.sqrt(mean_squared_error(y_test, preds))\n",
        "    scores.append(score)\n",
        "    print(score)\n",
        "    oof_preds2 += model.predict(test[setused.columns.tolist()].values)\n",
        "oof_preds2 = oof_preds2/splits\n",
        "\n",
        "print(\"Average: \", np.sum(scores)/len(scores))\n",
        "#3.5556950201910067"
      ],
      "execution_count": 21,
      "outputs": [
        {
          "output_type": "stream",
          "text": [
            "3.476932683721444\n",
            "3.7224059807396492\n",
            "3.63754996192147\n",
            "3.4974337145071415\n",
            "3.652316499789447\n",
            "3.330023153304485\n",
            "3.8062989399707905\n",
            "3.7062989204833734\n",
            "3.9534274268919227\n",
            "3.7606651881127235\n",
            "3.9598905510490465\n",
            "3.5656502780118413\n",
            "3.8339717963560638\n",
            "3.778348980347873\n",
            "3.487104272737782\n",
            "3.807421071788855\n",
            "Average:  3.6859837137333695\n"
          ],
          "name": "stdout"
        }
      ]
    },
    {
      "cell_type": "code",
      "metadata": {
        "id": "f8kxobV4eKBt",
        "colab_type": "code",
        "colab": {
          "base_uri": "https://localhost:8080/",
          "height": 340
        },
        "outputId": "9eb76464-7524-46f8-9bfd-d36c931ed827"
      },
      "source": [
        "train_set=setused\n",
        "labels=Y\n",
        "threshold=0.8\n",
        "add=0\n",
        "for item in l:\n",
        "  add+=item\n",
        "df_cv=pd.DataFrame(add/len(l),index=train_set.columns,columns=[\"importance\"]).sort_values('importance', ascending=False)\n",
        "imp_columns=df_cv[df_cv['importance']>threshold].index.tolist()\n",
        "df_cv=df_cv.reset_index()\n",
        "feat_imp = pd.Series(df_cv.importance.values, index=df_cv.drop([\"importance\"], axis=1)).sort_values(axis='index',ascending=False)\n",
        "X2=setused[imp_columns]\n",
        "feat_imp.nlargest(29).plot(kind='barh', figsize=(5,5))\n",
        "len(imp_columns)"
      ],
      "execution_count": 26,
      "outputs": [
        {
          "output_type": "execute_result",
          "data": {
            "text/plain": [
              "10"
            ]
          },
          "metadata": {
            "tags": []
          },
          "execution_count": 26
        },
        {
          "output_type": "display_data",
          "data": {
            "image/png": "[encoded data removed]",
            "text/plain": [
              "<matplotlib.figure.Figure at 0x7f0932bb5198>"
            ]
          },
          "metadata": {
            "tags": [],
            "needs_background": "light"
          }
        }
      ]
    },
    {
      "cell_type": "code",
      "metadata": {
        "id": "JuStuCtkJPMN",
        "colab_type": "code",
        "colab": {
          "base_uri": "https://localhost:8080/",
          "height": 17
        },
        "outputId": "3b288913-c264-4992-aaa7-5e702c6eff22"
      },
      "source": [
        "##submission module oof\n",
        "oof=oof_preds*.6+oof_preds2*.4\n",
        "filen='submission.xlsx'\n",
        "df_test2['tumor_size']=oof\n",
        "encode2 = dict(zip(df_test2.key, df_test2.tumor_size))\n",
        "df1=pd.DataFrame()\n",
        "df1['tumor_size']=df_test['tumor_size'].fillna(df_test['key'].map(encode2))\n",
        "df1=df1.clip(lower=0)\n",
        "df1.fillna(0,inplace=True)\n",
        "###change download adress here according to ur drive####################\n",
        "df1['tumor_size'].to_excel('/GD/My Drive/cancer/'+str(filen),index=False)\n",
        "files.download('/GD/My Drive/cancer/'+str(filen))\n",
        "#######################################################################"
      ],
      "execution_count": 25,
      "outputs": [
        {
          "output_type": "display_data",
          "data": {
            "application/javascript": [
              "\n",
              "    async function download(id, filename, size) {\n",
              "      if (!google.colab.kernel.accessAllowed) {\n",
              "        return;\n",
              "      }\n",
              "      const div = document.createElement('div');\n",
              "      const label = document.createElement('label');\n",
              "      label.textContent = `Downloading \"${filename}\": `;\n",
              "      div.appendChild(label);\n",
              "      const progress = document.createElement('progress');\n",
              "      progress.max = size;\n",
              "      div.appendChild(progress);\n",
              "      document.body.appendChild(div);\n",
              "\n",
              "      const buffers = [];\n",
              "      let downloaded = 0;\n",
              "\n",
              "      const channel = await google.colab.kernel.comms.open(id);\n",
              "      // Send a message to notify the kernel that we're ready.\n",
              "      channel.send({})\n",
              "\n",
              "      for await (const message of channel.messages) {\n",
              "        // Send a message to notify the kernel that we're ready.\n",
              "        channel.send({})\n",
              "        if (message.buffers) {\n",
              "          for (const buffer of message.buffers) {\n",
              "            buffers.push(buffer);\n",
              "            downloaded += buffer.byteLength;\n",
              "            progress.value = downloaded;\n",
              "          }\n",
              "        }\n",
              "      }\n",
              "      const blob = new Blob(buffers, {type: 'application/binary'});\n",
              "      const a = document.createElement('a');\n",
              "      a.href = window.URL.createObjectURL(blob);\n",
              "      a.download = filename;\n",
              "      div.appendChild(a);\n",
              "      a.click();\n",
              "      div.remove();\n",
              "    }\n",
              "  "
            ],
            "text/plain": [
              "<IPython.core.display.Javascript object>"
            ]
          },
          "metadata": {
            "tags": []
          }
        },
        {
          "output_type": "display_data",
          "data": {
            "application/javascript": [
              "download(\"download_a27f70ed-212c-452e-adb4-7d9b93e23bbf\", \"submission.xlsx\", 588579)"
            ],
            "text/plain": [
              "<IPython.core.display.Javascript object>"
            ]
          },
          "metadata": {
            "tags": []
          }
        }
      ]
    }
  ]
}